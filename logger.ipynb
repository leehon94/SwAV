{
  "nbformat": 4,
  "nbformat_minor": 0,
  "metadata": {
    "colab": {
      "name": "logger.ipynb",
      "provenance": [],
      "authorship_tag": "ABX9TyMoHdpgq0c6iTyTV2keWPTi",
      "include_colab_link": true
    },
    "kernelspec": {
      "name": "python3",
      "display_name": "Python 3"
    }
  },
  "cells": [
    {
      "cell_type": "markdown",
      "metadata": {
        "id": "view-in-github",
        "colab_type": "text"
      },
      "source": [
        "<a href=\"https://colab.research.google.com/github/leehon94/SwAV/blob/main/logger.ipynb\" target=\"_parent\"><img src=\"https://colab.research.google.com/assets/colab-badge.svg\" alt=\"Open In Colab\"/></a>"
      ]
    },
    {
      "cell_type": "code",
      "metadata": {
        "id": "ASBjBJXF6ObG",
        "outputId": "62ab56a4-ef53-445a-973c-5daf7128e5dc",
        "colab": {
          "base_uri": "https://localhost:8080/"
        }
      },
      "source": [
        " !pip3 install logger"
      ],
      "execution_count": 3,
      "outputs": [
        {
          "output_type": "stream",
          "text": [
            "Collecting logger\n",
            "  Downloading https://files.pythonhosted.org/packages/73/2f/b0d28eaa1e2c1cf64129f8da3fe701888d152677fec708cd0f13e8309e1e/logger-1.4.tar.gz\n",
            "Building wheels for collected packages: logger\n",
            "  Building wheel for logger (setup.py) ... \u001b[?25l\u001b[?25hdone\n",
            "  Created wheel for logger: filename=logger-1.4-cp36-none-any.whl size=1789 sha256=49da0ffad844b89ffeb308e2d91f22a6df0a97d696a5711d08aa14ef173e8498\n",
            "  Stored in directory: /root/.cache/pip/wheels/91/d4/96/08341e2ac92c1ed4b760e4848e1acda3795f0257a83b94b42e\n",
            "Successfully built logger\n",
            "Installing collected packages: logger\n",
            "Successfully installed logger-1.4\n"
          ],
          "name": "stdout"
        }
      ]
    },
    {
      "cell_type": "code",
      "metadata": {
        "id": "GHIbCmDG0ZwE"
      },
      "source": [
        "import os\n",
        "import logging\n",
        "import time\n",
        "from datetime import timedelta\n",
        "import pandas as pd\n",
        "\n",
        "\n",
        "class LogFormatter:\n",
        "    def __init__(self):\n",
        "        self.start_time = time.time()\n",
        "\n",
        "    def format(self, record):\n",
        "        elapsed_seconds = round(record.created - self.start_time)\n",
        "\n",
        "        prefix = \"%s - %s - %s\" % (\n",
        "            record.levelname,\n",
        "            time.strftime(\"%x %X\"),\n",
        "            timedelta(seconds=elapsed_seconds),\n",
        "        )\n",
        "        message = record.getMessage()\n",
        "        message = message.replace(\"\\n\", \"\\n\" + \" \" * (len(prefix) + 3))\n",
        "        return \"%s - %s\" % (prefix, message) if message else \"\"\n",
        "\n",
        "\n",
        "def create_logger(filepath, rank):\n",
        "    \"\"\"\n",
        "    Create a logger.\n",
        "    Use a different log file for each process.\n",
        "    \"\"\"\n",
        "    # create log formatter\n",
        "    log_formatter = LogFormatter()\n",
        "\n",
        "    # create file handler and set level to debug\n",
        "    if filepath is not None:\n",
        "        if rank > 0:\n",
        "            filepath = \"%s-%i\" % (filepath, rank)\n",
        "        file_handler = logging.FileHandler(filepath, \"a\")\n",
        "        file_handler.setLevel(logging.DEBUG)\n",
        "        file_handler.setFormatter(log_formatter)\n",
        "\n",
        "    # create console handler and set level to info\n",
        "    console_handler = logging.StreamHandler()\n",
        "    console_handler.setLevel(logging.INFO)\n",
        "    console_handler.setFormatter(log_formatter)\n",
        "\n",
        "    # create logger and set level to debug\n",
        "    logger = logging.getLogger()\n",
        "    logger.handlers = []\n",
        "    logger.setLevel(logging.DEBUG)\n",
        "    logger.propagate = False\n",
        "    if filepath is not None:\n",
        "        logger.addHandler(file_handler)\n",
        "    logger.addHandler(console_handler)\n",
        "\n",
        "    # reset logger elapsed time\n",
        "    def reset_time():\n",
        "        log_formatter.start_time = time.time()\n",
        "\n",
        "    logger.reset_time = reset_time\n",
        "\n",
        "    return logger\n",
        "\n",
        "\n",
        "class PD_Stats(object):\n",
        "    \"\"\"\n",
        "    Log stuff with pandas library\n",
        "    \"\"\"\n",
        "\n",
        "    def __init__(self, path, columns):\n",
        "        self.path = path\n",
        "\n",
        "        # reload path stats\n",
        "        if os.path.isfile(self.path):\n",
        "            self.stats = pd.read_pickle(self.path)\n",
        "\n",
        "            # check that columns are the same\n",
        "            assert list(self.stats.columns) == list(columns)\n",
        "\n",
        "        else:\n",
        "            self.stats = pd.DataFrame(columns=columns)\n",
        "\n",
        "    def update(self, row, save=True):\n",
        "        self.stats.loc[len(self.stats.index)] = row\n",
        "\n",
        "        # save the statistics\n",
        "        if save:\n",
        "            self.stats.to_pickle(self.path)"
      ],
      "execution_count": 4,
      "outputs": []
    }
  ]
}